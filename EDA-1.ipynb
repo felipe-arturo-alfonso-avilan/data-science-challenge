{
 "cells": [
  {
   "cell_type": "code",
   "execution_count": 4,
   "metadata": {},
   "outputs": [],
   "source": [
    "import pandas as pd\n",
    "import numpy as np\n",
    "import matplotlib.pyplot as plt\n",
    "import dtale"
   ]
  },
  {
   "cell_type": "code",
   "execution_count": 2,
   "metadata": {},
   "outputs": [
    {
     "data": {
      "text/html": [
       "<div>\n",
       "<style scoped>\n",
       "    .dataframe tbody tr th:only-of-type {\n",
       "        vertical-align: middle;\n",
       "    }\n",
       "\n",
       "    .dataframe tbody tr th {\n",
       "        vertical-align: top;\n",
       "    }\n",
       "\n",
       "    .dataframe thead th {\n",
       "        text-align: right;\n",
       "    }\n",
       "</style>\n",
       "<table border=\"1\" class=\"dataframe\">\n",
       "  <thead>\n",
       "    <tr style=\"text-align: right;\">\n",
       "      <th></th>\n",
       "      <th>OFFER_START_DATE</th>\n",
       "      <th>OFFER_START_DTTM</th>\n",
       "      <th>OFFER_FINISH_DTTM</th>\n",
       "      <th>OFFER_TYPE</th>\n",
       "      <th>INVOLVED_STOCK</th>\n",
       "      <th>REMAINING_STOCK_AFTER_END</th>\n",
       "      <th>SOLD_AMOUNT</th>\n",
       "      <th>SOLD_QUANTITY</th>\n",
       "      <th>ORIGIN</th>\n",
       "      <th>SHIPPING_PAYMENT_TYPE</th>\n",
       "      <th>DOM_DOMAIN_AGG1</th>\n",
       "      <th>VERTICAL</th>\n",
       "      <th>DOMAIN_ID</th>\n",
       "    </tr>\n",
       "  </thead>\n",
       "  <tbody>\n",
       "    <tr>\n",
       "      <th>0</th>\n",
       "      <td>2021-06-22</td>\n",
       "      <td>2021-06-22 16:00:00+00:00</td>\n",
       "      <td>2021-06-22 23:02:43+00:00</td>\n",
       "      <td>lightning_deal</td>\n",
       "      <td>4</td>\n",
       "      <td>-2</td>\n",
       "      <td>4.72</td>\n",
       "      <td>6.0</td>\n",
       "      <td>A</td>\n",
       "      <td>none</td>\n",
       "      <td>PETS FOOD</td>\n",
       "      <td>CPG</td>\n",
       "      <td>MLM-BIRD_FOODS</td>\n",
       "    </tr>\n",
       "    <tr>\n",
       "      <th>1</th>\n",
       "      <td>2021-06-22</td>\n",
       "      <td>2021-06-22 13:00:00+00:00</td>\n",
       "      <td>2021-06-22 19:00:02+00:00</td>\n",
       "      <td>lightning_deal</td>\n",
       "      <td>5</td>\n",
       "      <td>5</td>\n",
       "      <td>NaN</td>\n",
       "      <td>NaN</td>\n",
       "      <td>NaN</td>\n",
       "      <td>free_shipping</td>\n",
       "      <td>PET PRODUCTS</td>\n",
       "      <td>OTHERS</td>\n",
       "      <td>MLM-ANIMAL_AND_PET_PRODUCTS</td>\n",
       "    </tr>\n",
       "    <tr>\n",
       "      <th>2</th>\n",
       "      <td>2021-06-22</td>\n",
       "      <td>2021-06-22 07:00:00+00:00</td>\n",
       "      <td>2021-06-22 13:00:01+00:00</td>\n",
       "      <td>lightning_deal</td>\n",
       "      <td>15</td>\n",
       "      <td>12</td>\n",
       "      <td>10.73</td>\n",
       "      <td>3.0</td>\n",
       "      <td>NaN</td>\n",
       "      <td>none</td>\n",
       "      <td>COMPUTERS</td>\n",
       "      <td>CE</td>\n",
       "      <td>MLM-SPEAKERS</td>\n",
       "    </tr>\n",
       "    <tr>\n",
       "      <th>3</th>\n",
       "      <td>2021-06-22</td>\n",
       "      <td>2021-06-22 19:00:00+00:00</td>\n",
       "      <td>2021-06-23 01:36:12+00:00</td>\n",
       "      <td>lightning_deal</td>\n",
       "      <td>15</td>\n",
       "      <td>13</td>\n",
       "      <td>7.03</td>\n",
       "      <td>2.0</td>\n",
       "      <td>NaN</td>\n",
       "      <td>none</td>\n",
       "      <td>COMPUTERS</td>\n",
       "      <td>CE</td>\n",
       "      <td>MLM-HEADPHONES</td>\n",
       "    </tr>\n",
       "    <tr>\n",
       "      <th>4</th>\n",
       "      <td>2021-06-22</td>\n",
       "      <td>2021-06-22 13:00:00+00:00</td>\n",
       "      <td>2021-06-22 15:48:12+00:00</td>\n",
       "      <td>lightning_deal</td>\n",
       "      <td>15</td>\n",
       "      <td>0</td>\n",
       "      <td>39.65</td>\n",
       "      <td>15.0</td>\n",
       "      <td>NaN</td>\n",
       "      <td>none</td>\n",
       "      <td>COMPUTERS</td>\n",
       "      <td>CE</td>\n",
       "      <td>MLM-HEADPHONES</td>\n",
       "    </tr>\n",
       "  </tbody>\n",
       "</table>\n",
       "</div>"
      ],
      "text/plain": [
       "  OFFER_START_DATE           OFFER_START_DTTM          OFFER_FINISH_DTTM  \\\n",
       "0       2021-06-22  2021-06-22 16:00:00+00:00  2021-06-22 23:02:43+00:00   \n",
       "1       2021-06-22  2021-06-22 13:00:00+00:00  2021-06-22 19:00:02+00:00   \n",
       "2       2021-06-22  2021-06-22 07:00:00+00:00  2021-06-22 13:00:01+00:00   \n",
       "3       2021-06-22  2021-06-22 19:00:00+00:00  2021-06-23 01:36:12+00:00   \n",
       "4       2021-06-22  2021-06-22 13:00:00+00:00  2021-06-22 15:48:12+00:00   \n",
       "\n",
       "       OFFER_TYPE  INVOLVED_STOCK  REMAINING_STOCK_AFTER_END  SOLD_AMOUNT  \\\n",
       "0  lightning_deal               4                         -2         4.72   \n",
       "1  lightning_deal               5                          5          NaN   \n",
       "2  lightning_deal              15                         12        10.73   \n",
       "3  lightning_deal              15                         13         7.03   \n",
       "4  lightning_deal              15                          0        39.65   \n",
       "\n",
       "   SOLD_QUANTITY ORIGIN SHIPPING_PAYMENT_TYPE DOM_DOMAIN_AGG1 VERTICAL  \\\n",
       "0            6.0      A                  none       PETS FOOD      CPG   \n",
       "1            NaN    NaN         free_shipping    PET PRODUCTS   OTHERS   \n",
       "2            3.0    NaN                  none       COMPUTERS       CE   \n",
       "3            2.0    NaN                  none       COMPUTERS       CE   \n",
       "4           15.0    NaN                  none       COMPUTERS       CE   \n",
       "\n",
       "                     DOMAIN_ID  \n",
       "0               MLM-BIRD_FOODS  \n",
       "1  MLM-ANIMAL_AND_PET_PRODUCTS  \n",
       "2                 MLM-SPEAKERS  \n",
       "3               MLM-HEADPHONES  \n",
       "4               MLM-HEADPHONES  "
      ]
     },
     "execution_count": 2,
     "metadata": {},
     "output_type": "execute_result"
    }
   ],
   "source": [
    "lightning_deals = pd.read_csv('./ofertas_relampago.csv')\n",
    "lightning_deals.head()"
   ]
  },
  {
   "cell_type": "code",
   "execution_count": 6,
   "metadata": {},
   "outputs": [
    {
     "name": "stderr",
     "output_type": "stream",
     "text": [
      "/usr/local/lib/python3.10/site-packages/dtale/views.py:755: FutureWarning:\n",
      "\n",
      "['ORIGIN'] did not aggregate successfully. If any error is raised this will raise in a future version of pandas. Drop these columns/ops to avoid this warning.\n",
      "\n",
      "Address already in use\n",
      "Port 40000 is in use by another program. Either identify and stop that program, or start the server with a different port.\n"
     ]
    },
    {
     "data": {
      "text/html": [
       "\n",
       "        <iframe\n",
       "            width=\"100%\"\n",
       "            height=\"475\"\n",
       "            src=\"http://CO0C02DQ15AML85:40000/dtale/iframe/2\"\n",
       "            frameborder=\"0\"\n",
       "            allowfullscreen\n",
       "            \n",
       "        ></iframe>\n",
       "        "
      ],
      "text/plain": [
       "<IPython.lib.display.IFrame at 0x1326eb8b0>"
      ]
     },
     "metadata": {},
     "output_type": "display_data"
    },
    {
     "data": {
      "text/plain": []
     },
     "execution_count": 6,
     "metadata": {},
     "output_type": "execute_result"
    }
   ],
   "source": [
    "d = dtale.show(lightning_deals)\n",
    "d"
   ]
  }
 ],
 "metadata": {
  "kernelspec": {
   "display_name": "Python 3",
   "language": "python",
   "name": "python3"
  },
  "language_info": {
   "codemirror_mode": {
    "name": "ipython",
    "version": 3
   },
   "file_extension": ".py",
   "mimetype": "text/x-python",
   "name": "python",
   "nbconvert_exporter": "python",
   "pygments_lexer": "ipython3",
   "version": "3.10.8"
  },
  "orig_nbformat": 4,
  "vscode": {
   "interpreter": {
    "hash": "aee8b7b246df8f9039afb4144a1f6fd8d2ca17a180786b69acc140d282b71a49"
   }
  }
 },
 "nbformat": 4,
 "nbformat_minor": 2
}
